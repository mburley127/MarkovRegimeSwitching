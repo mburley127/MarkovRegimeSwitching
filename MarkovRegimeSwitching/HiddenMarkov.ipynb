{
 "cells": [
  {
   "cell_type": "code",
   "execution_count": 2,
   "metadata": {},
   "outputs": [],
   "source": [
    "### Library Imports\n",
    "import numpy as np\n",
    "import pandas as pd\n",
    "import yfinance as yf\n",
    "import matplotlib.pyplot as plt\n",
    "import matplotlib.dates as mdates\n",
    "import seaborn as sns\n",
    "from scipy.stats import norm\n",
    "from sklearn.linear_model import LinearRegression\n",
    "import warnings\n",
    "warnings.filterwarnings(\"ignore\")\n"
   ]
  },
  {
   "cell_type": "code",
   "execution_count": 3,
   "metadata": {},
   "outputs": [
    {
     "name": "stderr",
     "output_type": "stream",
     "text": [
      "[*********************100%%**********************]  1 of 1 completed"
     ]
    },
    {
     "name": "stdout",
     "output_type": "stream",
     "text": [
      "           Date        AAPL\n",
      "8560 2023-12-22  192.868149\n",
      "8561 2023-12-26  192.320221\n",
      "8562 2023-12-27  192.419830\n",
      "8563 2023-12-28  192.848206\n",
      "8564 2023-12-29  191.802185\n",
      "The most recent stock price is:  191.8022\n"
     ]
    },
    {
     "name": "stderr",
     "output_type": "stream",
     "text": [
      "\n"
     ]
    }
   ],
   "source": [
    "### Import Stock Data\n",
    "def get_data(tickers, start_date, end_date):\n",
    "    data = pd.DataFrame()\n",
    "    for ticker in tickers:\n",
    "        data[ticker] = yf.download(ticker, start_date, end_date)['Adj Close']\n",
    "        # Reset Headers to be in the same row\n",
    "        data.reset_index(inplace = True)\n",
    "    \n",
    "    return data\n",
    "\n",
    "### Return Stock Data\n",
    "tickers = ['AAPL']  # Ticker symbol for the S&P 500\n",
    "start_date = '1990-01-01'\n",
    "end_date = '2024-01-01'\n",
    "stock_data = get_data(tickers, start_date, end_date)\n",
    "print(stock_data.tail())\n",
    "\n",
    "# Get most recent stock price\n",
    "s_0 = stock_data['AAPL'].iloc[-1]\n",
    "print('The most recent stock price is: ', round(s_0, 4))\n"
   ]
  },
  {
   "cell_type": "code",
   "execution_count": 4,
   "metadata": {},
   "outputs": [
    {
     "name": "stdout",
     "output_type": "stream",
     "text": [
      "            AAPL  Log Returns  Volatility\n",
      "1       0.264179     0.006688         NaN\n",
      "2       0.265060     0.003331         NaN\n",
      "3       0.265941     0.003316         NaN\n",
      "4       0.267702     0.006600         NaN\n",
      "5       0.265060    -0.009916         NaN\n",
      "...          ...          ...         ...\n",
      "8560  192.868149    -0.005563    0.009297\n",
      "8561  192.320221    -0.002845    0.008449\n",
      "8562  192.419830     0.000518    0.008246\n",
      "8563  192.848206     0.002224    0.007892\n",
      "8564  191.802185    -0.005439    0.007970\n",
      "\n",
      "[8564 rows x 3 columns]\n"
     ]
    }
   ],
   "source": [
    "### Calculate Log Returns\n",
    "def compute_metrics(data, window):\n",
    "    # Drop Date Column\n",
    "    data = data.drop(columns = ['Date'])\n",
    "    \n",
    "    # Calculate Log Returns and store in a seperate col\n",
    "    data['Log Returns'] = np.log(data / data.shift(1))\n",
    "    data = data.dropna()  # Remove any NaN values\n",
    "\n",
    "    # Calculate Voltility - rolling stddev of log returns\n",
    "    data['Volatility'] = data['Log Returns'].rolling(window = window).std()\n",
    "\n",
    "    return data\n",
    "\n",
    "stock_data_full = compute_metrics(stock_data, window = 30)\n",
    "print(stock_data_full)\n"
   ]
  },
  {
   "cell_type": "code",
   "execution_count": null,
   "metadata": {},
   "outputs": [],
   "source": []
  }
 ],
 "metadata": {
  "kernelspec": {
   "display_name": "base",
   "language": "python",
   "name": "python3"
  },
  "language_info": {
   "codemirror_mode": {
    "name": "ipython",
    "version": 3
   },
   "file_extension": ".py",
   "mimetype": "text/x-python",
   "name": "python",
   "nbconvert_exporter": "python",
   "pygments_lexer": "ipython3",
   "version": "3.8.18"
  }
 },
 "nbformat": 4,
 "nbformat_minor": 2
}
